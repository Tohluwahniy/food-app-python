{
 "cells": [
  {
   "cell_type": "code",
   "execution_count": 1,
   "id": "e603721e-39c0-4769-b7c2-7f436390ffb7",
   "metadata": {},
   "outputs": [],
   "source": [
    "#PLEASE DO NOT MODIFY THIS CELL\n",
    "\n",
    "def display_menu():\n",
    "    \"\"\"\n",
    "    Description: Prints the menu options for the food items available in the ordering app.\n",
    "                 since the app only has 3 food items you can order we add a fourth option to exit\n",
    "                 the menu when they are done ordering.\n",
    "    \"\"\"\n",
    "    print(\"Menu:\")\n",
    "    print(\"1. Pizza - 6500\")\n",
    "    print(\"2. Burger - 3000\")\n",
    "    print(\"3. Noodles - 1300\")\n",
    "    print(\"4. Exit Menu\")"
   ]
  },
  {
   "cell_type": "code",
   "execution_count": 2,
   "id": "11c1c261-2da5-415d-a047-c54497fc3bb1",
   "metadata": {},
   "outputs": [
    {
     "name": "stdout",
     "output_type": "stream",
     "text": [
      "Menu:\n",
      "1. Pizza - 6500\n",
      "2. Burger - 3000\n",
      "3. Noodles - 1300\n",
      "4. Exit Menu\n"
     ]
    }
   ],
   "source": [
    "display_menu()"
   ]
  },
  {
   "cell_type": "code",
   "execution_count": 14,
   "id": "d1dcad36-a1e4-48a7-9b3c-4d07c652b0c1",
   "metadata": {},
   "outputs": [],
   "source": [
    "def get_user_choice():\n",
    "    \"\"\"\n",
    "    Description: Takes user input to get the number corresponding to the chosen food item from the menu.\n",
    "                 Ensures the input is a valid choice between 1 and 4.\n",
    "\n",
    "                 If the input is not an integer return the error\n",
    "                 'Invalid input. Please enter a valid number.'\n",
    "\n",
    "                 If the input is an integer but not between 1 and 4 return the error\n",
    "                 'Invalid choice. Please enter a number between 1 and 4.'  \n",
    "    \"\"\"\n",
    "    # YOUR CODE HERE\n",
    "    while True:\n",
    "        display_menu()\n",
    "        # Get user input\n",
    "        choice_str = input(\"\\nEnter the number corresponding to your choice of food on the Menu: \\nPress 4 to Exit Menu.\")\n",
    "        # Converting input to integer, but prompted to display invalid input if the value is not an integer\n",
    "        try:\n",
    "            choice = int(choice_str)\n",
    "        except ValueError: \n",
    "            print(\"\\nInvalid Input.\\nPlease enter a valid number.\")\n",
    "            continue\n",
    "        if choice == 1: \n",
    "            print(\"\\nYou chose Pizza\") \n",
    "        elif choice == 2:\n",
    "            print(\"\\nYou chose Burger\") \n",
    "        elif choice == 3: \n",
    "            print(\"\\nYou chose Noodles\") \n",
    "        elif choice == 4: \n",
    "            break \n",
    "        elif choice == float(choice):\n",
    "            print(\"\\nInvalid Input.\\nPlease enter a valid number.\")\n",
    "        elif choice > 4:\n",
    "            print(\"\\nInvalid Choice.\\nPlease enter a number between 1 and 4\") "
   ]
  },
  {
   "cell_type": "code",
   "execution_count": 15,
   "id": "0a4fc6a1-96c7-4b0a-aa79-d584754e0159",
   "metadata": {},
   "outputs": [
    {
     "name": "stdout",
     "output_type": "stream",
     "text": [
      "Menu:\n",
      "1. Pizza - 6500\n",
      "2. Burger - 3000\n",
      "3. Noodles - 1300\n",
      "4. Exit Menu\n"
     ]
    },
    {
     "name": "stdin",
     "output_type": "stream",
     "text": [
      "\n",
      "Enter the number corresponding to your choice of food on the Menu: \n",
      "Press 4 to Exit Menu. 1\n"
     ]
    },
    {
     "name": "stdout",
     "output_type": "stream",
     "text": [
      "\n",
      "You chose Pizza\n",
      "Menu:\n",
      "1. Pizza - 6500\n",
      "2. Burger - 3000\n",
      "3. Noodles - 1300\n",
      "4. Exit Menu\n"
     ]
    },
    {
     "name": "stdin",
     "output_type": "stream",
     "text": [
      "\n",
      "Enter the number corresponding to your choice of food on the Menu: \n",
      "Press 4 to Exit Menu. 2\n"
     ]
    },
    {
     "name": "stdout",
     "output_type": "stream",
     "text": [
      "\n",
      "You chose Burger\n",
      "Menu:\n",
      "1. Pizza - 6500\n",
      "2. Burger - 3000\n",
      "3. Noodles - 1300\n",
      "4. Exit Menu\n"
     ]
    },
    {
     "name": "stdin",
     "output_type": "stream",
     "text": [
      "\n",
      "Enter the number corresponding to your choice of food on the Menu: \n",
      "Press 4 to Exit Menu. 3\n"
     ]
    },
    {
     "name": "stdout",
     "output_type": "stream",
     "text": [
      "\n",
      "You chose Noodles\n",
      "Menu:\n",
      "1. Pizza - 6500\n",
      "2. Burger - 3000\n",
      "3. Noodles - 1300\n",
      "4. Exit Menu\n"
     ]
    },
    {
     "name": "stdin",
     "output_type": "stream",
     "text": [
      "\n",
      "Enter the number corresponding to your choice of food on the Menu: \n",
      "Press 4 to Exit Menu. 5\n"
     ]
    },
    {
     "name": "stdout",
     "output_type": "stream",
     "text": [
      "\n",
      "Invalid Input.\n",
      "Please enter a valid number.\n",
      "Menu:\n",
      "1. Pizza - 6500\n",
      "2. Burger - 3000\n",
      "3. Noodles - 1300\n",
      "4. Exit Menu\n"
     ]
    },
    {
     "name": "stdin",
     "output_type": "stream",
     "text": [
      "\n",
      "Enter the number corresponding to your choice of food on the Menu: \n",
      "Press 4 to Exit Menu. 2.2\n"
     ]
    },
    {
     "name": "stdout",
     "output_type": "stream",
     "text": [
      "\n",
      "Invalid Input.\n",
      "Please enter a valid number.\n",
      "Menu:\n",
      "1. Pizza - 6500\n",
      "2. Burger - 3000\n",
      "3. Noodles - 1300\n",
      "4. Exit Menu\n"
     ]
    },
    {
     "name": "stdin",
     "output_type": "stream",
     "text": [
      "\n",
      "Enter the number corresponding to your choice of food on the Menu: \n",
      "Press 4 to Exit Menu. 4\n"
     ]
    }
   ],
   "source": [
    "get_user_choice()"
   ]
  },
  {
   "cell_type": "code",
   "execution_count": 16,
   "id": "6a8587c8-41da-4e7e-a883-c5fc82c20e06",
   "metadata": {},
   "outputs": [],
   "source": [
    "def get_quantity():\n",
    "    \"\"\"\n",
    "    Description: Takes user input to get the quantity of the selected food item\n",
    "                 and ensures the input is a positive integer.\n",
    "\n",
    "                 If the input is not an integer, return the error:\n",
    "                 'Invalid input. Please enter a valid number.'\n",
    "\n",
    "                 If the input is a negative integer or zero, return the error:\n",
    "                 'Quantity must be greater than 0.'\n",
    "    \"\"\" \n",
    "    while True:\n",
    "        quantity_of_choice_str = input(\"\\nEnter the quantity of the food item selected:  \")\n",
    "        try:\n",
    "            quantity_of_choice = int(quantity_of_choice_str)\n",
    "        except ValueError:\n",
    "            print(\"\\nInvalid Input. Please enter a valid number.\")\n",
    "            continue  #\n",
    "        if quantity_of_choice > 0: \n",
    "            return quantity_of_choice\n",
    "        else: \n",
    "            print(\"\\nQuantity must be greater than 0.\")"
   ]
  },
  {
   "cell_type": "code",
   "execution_count": 17,
   "id": "75bbfa43-03ab-4a04-9f96-4e4b52511880",
   "metadata": {},
   "outputs": [
    {
     "name": "stdin",
     "output_type": "stream",
     "text": [
      "\n",
      "Enter the quantity of the food item selected:   0\n"
     ]
    },
    {
     "name": "stdout",
     "output_type": "stream",
     "text": [
      "\n",
      "Quantity must be greater than 0.\n"
     ]
    },
    {
     "name": "stdin",
     "output_type": "stream",
     "text": [
      "\n",
      "Enter the quantity of the food item selected:   4\n"
     ]
    },
    {
     "data": {
      "text/plain": [
       "4"
      ]
     },
     "execution_count": 17,
     "metadata": {},
     "output_type": "execute_result"
    }
   ],
   "source": [
    "get_quantity()"
   ]
  },
  {
   "cell_type": "code",
   "execution_count": 34,
   "id": "92c3fbfe-e343-415e-9352-5ebd84b6820c",
   "metadata": {},
   "outputs": [],
   "source": [
    "def get_item_name(choice):\n",
    "    \"\"\"\n",
    "    Description: Retrieves and returns the name of a food item\n",
    "    based on the user's choice number from the menu.\n",
    "    \"\"\"\n",
    "    # YOUR CODE HERE\n",
    "    if choice == 1: \n",
    "        return \"Pizza\"\n",
    "    elif choice == 2: \n",
    "        return \"Burger\"\n",
    "    elif choice == 3: \n",
    "        return \"Noodles\"\n",
    "    else:\n",
    "        return \"Invalid choice\""
   ]
  },
  {
   "cell_type": "code",
   "execution_count": 35,
   "id": "176b58f8-79de-478d-a974-4357808746ff",
   "metadata": {},
   "outputs": [
    {
     "data": {
      "text/plain": [
       "'Noodles'"
      ]
     },
     "execution_count": 35,
     "metadata": {},
     "output_type": "execute_result"
    }
   ],
   "source": [
    "get_item_name(3)"
   ]
  },
  {
   "cell_type": "code",
   "execution_count": 38,
   "id": "fda1c3b3-2726-4427-a041-4e17a9e526de",
   "metadata": {},
   "outputs": [],
   "source": [
    "def get_item_price(choice):\n",
    "    \"\"\"\n",
    "    Description: Retrieves and returns the price of a food item based on\n",
    "    the user's choice number from the menu.\n",
    "    \"\"\"\n",
    "    # YOUR CODE HERE\n",
    "    if choice == 1:\n",
    "        return 6500\n",
    "    elif choice == 2:\n",
    "        return 3000\n",
    "    elif choice == 3:\n",
    "        return 1300\n",
    "    else:\n",
    "      return None"
   ]
  },
  {
   "cell_type": "code",
   "execution_count": 39,
   "id": "dd755cb6-f470-4ab3-bdc9-24aa19edd288",
   "metadata": {},
   "outputs": [
    {
     "data": {
      "text/plain": [
       "3000"
      ]
     },
     "execution_count": 39,
     "metadata": {},
     "output_type": "execute_result"
    }
   ],
   "source": [
    "get_item_price(2)"
   ]
  },
  {
   "cell_type": "code",
   "execution_count": 40,
   "id": "8f43d20d-8e15-4e8c-95c1-714ff793a4e5",
   "metadata": {},
   "outputs": [],
   "source": [
    "def calculate_total_price(item_price, quantity):\n",
    "    \"\"\"\n",
    "    Description: Calculates and returns the total price of a specific food item\n",
    "    based on its price and the quantity ordered.\n",
    "    \"\"\"\n",
    "    return item_price * quantity"
   ]
  },
  {
   "cell_type": "code",
   "execution_count": 41,
   "id": "754a90b2-5524-45c0-82de-91873108b234",
   "metadata": {},
   "outputs": [
    {
     "data": {
      "text/plain": [
       "6000"
      ]
     },
     "execution_count": 41,
     "metadata": {},
     "output_type": "execute_result"
    }
   ],
   "source": [
    "calculate_total_price(3000, 2)"
   ]
  },
  {
   "cell_type": "code",
   "execution_count": 42,
   "id": "c11929db-e87e-46e4-950f-251280ceb6f0",
   "metadata": {},
   "outputs": [],
   "source": [
    "def place_order():\n",
    "    \"\"\"\n",
    "    Description: Manages the process of adding items to a shopping cart.\n",
    "                 USES A DICTIONARY FOR THE CART.\n",
    "                 Calls other functions to get user choices, quantities, and calculates total prices.\n",
    "\n",
    "                 Your cart should look something like this assuming this user ordered 3 pizzas and 3 burgers.\n",
    "                 {\n",
    "                    'Pizza': {'quantity': 3, 'total_price': 19500},\n",
    "                    'Burger': {'quantity': 3, 'total_price': 9000}\n",
    "                 }\n",
    "    \"\"\"\n",
    "    # YOUR CODE HERE\n",
    "    cart = {}\n",
    "    while True:\n",
    "        choice = get_user_choice()\n",
    "        if choice == 4:\n",
    "            break\n",
    "\n",
    "        quantity = get_quantity()\n",
    "\n",
    "        item_name = get_item_name(choice)\n",
    "        item_price = get_item_price(choice)\n",
    "        if item_price is None:\n",
    "            print(\"Invalid choice. Please try again.\")\n",
    "            continue\n",
    "\n",
    "        total_price = calculate_total_price(item_price, quantity)\n",
    "\n",
    "        # To add to cart or update if item is already present\n",
    "        if item_name in cart:\n",
    "            cart[item_name]['quantity'] += quantity\n",
    "            cart[item_name]['total_price'] += total_price\n",
    "        else:\n",
    "            cart[item_name] = {'quantity': quantity, 'total_price': total_price}\n",
    "\n",
    "        print(f\"\\n{quantity} {item_name}(s) added to cart.\")\n",
    "\n",
    "    print(\"\\nShopping Cart:\")\n",
    "    for item, details in cart.items():\n",
    "        print(f\"{item}: Quantity - {details['quantity']}, Total Price - {details['total_price']}\")"
   ]
  },
  {
   "cell_type": "code",
   "execution_count": null,
   "id": "cd2a186a-e22c-4cbc-b364-000fa3d02134",
   "metadata": {},
   "outputs": [],
   "source": []
  }
 ],
 "metadata": {
  "kernelspec": {
   "display_name": "Python 3 (ipykernel)",
   "language": "python",
   "name": "python3"
  },
  "language_info": {
   "codemirror_mode": {
    "name": "ipython",
    "version": 3
   },
   "file_extension": ".py",
   "mimetype": "text/x-python",
   "name": "python",
   "nbconvert_exporter": "python",
   "pygments_lexer": "ipython3",
   "version": "3.12.7"
  }
 },
 "nbformat": 4,
 "nbformat_minor": 5
}
